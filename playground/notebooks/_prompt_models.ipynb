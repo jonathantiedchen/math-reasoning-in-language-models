{
 "cells": [
  {
   "cell_type": "code",
   "execution_count": 16,
   "metadata": {},
   "outputs": [
    {
     "name": "stderr",
     "output_type": "stream",
     "text": [
      "\u001b[34m\u001b[1mwandb\u001b[0m: \u001b[33mWARNING\u001b[0m Unable to render HTML, can't import display from ipython.core\n"
     ]
    }
   ],
   "source": [
    "import wandb\n",
    "import torch\n",
    "from transformers import GPT2Tokenizer, GPT2LMHeadModel\n",
    "\n",
    "# Initialize a W&B run\n",
    "run = wandb.init()\n",
    "\n",
    "# Use the specified artifact\n",
    "artifact = run.use_artifact('master_thesis_math_lm/gpt2-math/gpt2-math-model:v0', type='model')\n",
    "\n",
    "# Download the artifact and get the directory path\n",
    "artifact_dir = artifact.download()\n",
    "\n",
    "# Load the tokenizer and model\n",
    "tokenizer = GPT2Tokenizer.from_pretrained(artifact_dir)\n",
    "model = GPT2LMHeadModel.from_pretrained(artifact_dir)\n",
    "\n",
    "# Example: Generate text using the model\n",
    "input_text = \"The solution to the integral of x^2 is\"\n",
    "input_ids = tokenizer.encode(input_text, return_tensors='pt')\n",
    "\n",
    "attention_mask = torch.ones_like(input_ids)\n",
    "\n",
    "output = model.generate(\n",
    "    input_ids,\n",
    "    attention_mask=attention_mask,  # Add this parameter\n",
    "    max_length=100,\n",
    "    num_return_sequences=1\n",
    ")"
   ]
  },
  {
   "cell_type": "code",
   "execution_count": null,
   "metadata": {},
   "outputs": [
    {
     "name": "stdout",
     "output_type": "stream",
     "text": [
      "The solution to the integral of x^2 is x^2-1.\n",
      "\n",
      "1. Jan 27, 2012\n",
      "\n",
      "### joriki\n",
      "\n",
      "1. The problem statement, all variables and given/known data\n",
      "\n",
      "Find the value of x^2\n",
      "\n",
      "2. Relevant equations\n",
      "\n",
      "3. The attempt at a solution\n",
      "\n",
      "I tried to use the substitution x=1/2 and x=2/3 but I got stuck.\n",
      "\n",
      "2. Jan 27\n"
     ]
    }
   ],
   "source": [
    "# Decode and print the generated text\n",
    "generated_text = tokenizer.decode(output[0], skip_special_tokens=True)\n",
    "print(generated_text)\n"
   ]
  },
  {
   "cell_type": "code",
   "execution_count": null,
   "metadata": {},
   "outputs": [],
   "source": []
  }
 ],
 "metadata": {
  "kernelspec": {
   "display_name": ".venv",
   "language": "python",
   "name": "python3"
  },
  "language_info": {
   "codemirror_mode": {
    "name": "ipython",
    "version": 3
   },
   "file_extension": ".py",
   "mimetype": "text/x-python",
   "name": "python",
   "nbconvert_exporter": "python",
   "pygments_lexer": "ipython3",
   "version": "3.12.9"
  }
 },
 "nbformat": 4,
 "nbformat_minor": 2
}
